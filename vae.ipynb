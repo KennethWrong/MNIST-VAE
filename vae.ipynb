{
 "cells": [
  {
   "cell_type": "code",
   "execution_count": 95,
   "metadata": {},
   "outputs": [],
   "source": [
    "import torch\n",
    "import numpy as np\n",
    "import torch.nn as nn\n",
    "import torch.nn.functional as F"
   ]
  },
  {
   "cell_type": "code",
   "execution_count": 96,
   "metadata": {},
   "outputs": [],
   "source": [
    "# Load dataset\n",
    "import torchvision\n",
    "import torchvision.transforms as transforms\n",
    "\n",
    "transform = transforms.Compose([\n",
    "    transforms.ToTensor(),\n",
    "])\n",
    "\n",
    "batch_size = 4\n",
    "\n",
    "trainset = torchvision.datasets.MNIST(root='./data', train=True, download=True, transform=transform)\n",
    "train_loader = torch.utils.data.DataLoader(trainset, batch_size, shuffle=True)\n",
    "\n",
    "testset = torchvision.datasets.MNIST(root='./data', train=False, download=True, transform=transform)\n",
    "test_loader = torch.utils.data.DataLoader(testset, batch_size, shuffle=True)"
   ]
  },
  {
   "cell_type": "code",
   "execution_count": 97,
   "metadata": {},
   "outputs": [
    {
     "data": {
      "image/png": "[encoded data removed]",
      "text/plain": [
       "<Figure size 640x480 with 1 Axes>"
      ]
     },
     "metadata": {},
     "output_type": "display_data"
    },
    {
     "name": "stdout",
     "output_type": "stream",
     "text": [
      "Seven Three Five  Zero \n",
      "None\n"
     ]
    }
   ],
   "source": [
    "import matplotlib.pyplot as plt\n",
    "\n",
    "classes = ('Zero', 'One', 'Two', 'Three', 'Four', 'Five', 'Six', 'Seven', 'Eight', 'Nine')\n",
    "\n",
    "def imshow(img):\n",
    "    npimg = img.numpy()\n",
    "    plt.imshow(np.transpose(npimg, (1, 2, 0)))\n",
    "    plt.show()\n",
    "\n",
    "dataiter = iter(train_loader)\n",
    "images, labels = next(dataiter)\n",
    "\n",
    "imshow(torchvision.utils.make_grid(images))\n",
    "print(print(' '.join(f'{classes[labels[j]]:5s}' for j in range(batch_size))))"
   ]
  },
  {
   "cell_type": "code",
   "execution_count": 98,
   "metadata": {},
   "outputs": [
    {
     "data": {
      "text/plain": [
       "torch.Size([1, 28, 28])"
      ]
     },
     "execution_count": 98,
     "metadata": {},
     "output_type": "execute_result"
    }
   ],
   "source": [
    "images[0].shape"
   ]
  },
  {
   "cell_type": "code",
   "execution_count": 99,
   "metadata": {},
   "outputs": [],
   "source": [
    "device = 'cuda' if torch.cuda.is_available() else 'cpu'"
   ]
  },
  {
   "cell_type": "code",
   "execution_count": 100,
   "metadata": {},
   "outputs": [],
   "source": [
    "\n",
    "def loss_function(x_reconstructed, x, mu, log_var):\n",
    "    BCE = F.binary_cross_entropy(x_reconstructed, x, reduction='sum')\n",
    "    KLD = -0.5 * torch.sum(1 + log_var - mu.pow(2) - log_var.exp())\n",
    "\n",
    "    return BCE + KLD"
   ]
  },
  {
   "cell_type": "code",
   "execution_count": 108,
   "metadata": {},
   "outputs": [],
   "source": [
    "def train(epoch, model, optimizer):\n",
    "    model.train()\n",
    "    train_loss = 0\n",
    "\n",
    "    for batch_idx, (data, _) in enumerate(train_loader):\n",
    "        data = data.to(device)\n",
    "        optimizer.zero_grad()\n",
    "\n",
    "        reconstructed_x, mu, log_var = model(data)\n",
    "        loss = loss_function(reconstructed_x, data, mu, log_var)\n",
    "\n",
    "        loss.backward()\n",
    "        train_loss += loss.item()\n",
    "        optimizer.step()\n",
    "\n",
    "        if batch_idx % 1000 == 0:\n",
    "            print('Train Epoch: {} [{}/{} ({:.0f}%)]\\tLoss: {:.6f}'.format(\n",
    "                epoch, batch_idx * len(data), len(train_loader.dataset),\n",
    "                100. * batch_idx / len(train_loader), loss.item() / len(data)))\n",
    "            print('====> Epoch: {} Average loss: {:.4f}'.format(epoch, train_loss / len(train_loader.dataset)))"
   ]
  },
  {
   "cell_type": "code",
   "execution_count": 109,
   "metadata": {},
   "outputs": [],
   "source": [
    "def test(model):\n",
    "    model.eval()\n",
    "    test_loss = 0\n",
    "    with torch.no_grad():\n",
    "        for data, _ in test_loader:\n",
    "            data = data.to(device)\n",
    "            r_x, mu, log_var = model(data)\n",
    "            test_loss += loss_function(r_x, data, mu, log_var)\n",
    "        \n",
    "        test_loss /= len(test_loader.dataset)\n",
    "        print('====> Test set loss: {:.4f}'.format(test_loss))\n"
   ]
  },
  {
   "cell_type": "code",
   "execution_count": 115,
   "metadata": {},
   "outputs": [],
   "source": [
    "class VAE(nn.Module):\n",
    "    def __init__(self):\n",
    "        super(VAE, self).__init__()\n",
    "        \n",
    "        # Encoder 1x28x28\n",
    "        self.conv1 = nn.Conv2d(1, 1, 3, padding=0) #1x26x26\n",
    "        self.conv2 = nn.Conv2d(1, 1, 3, padding=0) #1x24x24\n",
    "        self.conv3 = nn.Conv2d(1, 1, 5, padding=0) # 1x20x20\n",
    "        self.conv4 = nn.Conv2d(1, 1, 5, padding=0) #1x16x16\n",
    "\n",
    "        # Latent\n",
    "        self.fc1 = nn.Linear(256, 128)\n",
    "        self.fc21 = nn.Linear(128, 64)\n",
    "        self.fc22 = nn.Linear(128, 64)\n",
    "        \n",
    "        # Decoder 1x64\n",
    "        self.fc3 = nn.Linear(64, 128) # 1x128\n",
    "        self.fc4 = nn.Linear(128, 256) # 1x256\n",
    "        self.conv5 = nn.Conv2d(1, 1, 3, padding=2) # 1x18x18\n",
    "        self.conv6 = nn.Conv2d(1, 1, 3, padding=2) # 1x20x20\n",
    "        self.conv7 = nn.Conv2d(1, 1, 3, padding=3) # 1x24x24\n",
    "        self.conv8 = nn.Conv2d(1, 1, 3, padding=3) # 1x28x28\n",
    "\n",
    "    def encoder(self, x):\n",
    "        x = F.relu(self.conv1(x))\n",
    "        x = F.relu(self.conv2(x))\n",
    "        x = F.relu(self.conv3(x))\n",
    "        x = F.relu(self.conv4(x))    \n",
    "\n",
    "        x_flat = torch.flatten(x, start_dim=1)\n",
    "        x = self.fc1(x_flat)\n",
    "\n",
    "        return self.fc21(x), self.fc22(x) # mu, log_var\n",
    "    \n",
    "    def sampling(self, mu, log_var):\n",
    "        std = torch.exp(0.5*log_var)\n",
    "        eps = torch.randn_like(std)\n",
    "        return eps.mul(std).add_(mu) # 1x\n",
    "    \n",
    "    def decoder(self, x):\n",
    "        x = F.relu(self.fc3(x))\n",
    "        x = F.relu(self.fc4(x))\n",
    "\n",
    "        x = x.view(-1, 1, 16, 16)\n",
    "        x = F.relu(self.conv5(x))\n",
    "        x = F.relu(self.conv6(x))\n",
    "        x = F.relu(self.conv7(x))\n",
    "        x = F.relu(self.conv8(x))\n",
    "\n",
    "        return F.sigmoid(x)\n",
    "    \n",
    "    def forward(self, x):\n",
    "        mu, log_var = self.encoder(x)\n",
    "        latent_z = self.sampling(mu, log_var)\n",
    "        return self.decoder(latent_z), mu, log_var\n",
    "    \n",
    "    \n",
    "vae = VAE().to(device)"
   ]
  },
  {
   "cell_type": "code",
   "execution_count": 116,
   "metadata": {},
   "outputs": [],
   "source": [
    "import torch.optim as optim\n",
    "\n",
    "optimizer = optim.Adam(vae.parameters())"
   ]
  },
  {
   "cell_type": "code",
   "execution_count": 117,
   "metadata": {},
   "outputs": [
    {
     "name": "stdout",
     "output_type": "stream",
     "text": [
      "Train Epoch: 1 [0/60000 (0%)]\tLoss: 543.582764\n",
      "====> Epoch: 1 Average loss: 0.0362\n",
      "Train Epoch: 1 [4000/60000 (7%)]\tLoss: 543.427429\n",
      "====> Epoch: 1 Average loss: 36.2648\n",
      "Train Epoch: 1 [8000/60000 (13%)]\tLoss: 543.427429\n",
      "====> Epoch: 1 Average loss: 72.4933\n",
      "Train Epoch: 1 [12000/60000 (20%)]\tLoss: 543.427429\n",
      "====> Epoch: 1 Average loss: 108.7218\n",
      "Train Epoch: 1 [16000/60000 (27%)]\tLoss: 543.427429\n",
      "====> Epoch: 1 Average loss: 144.9503\n",
      "Train Epoch: 1 [20000/60000 (33%)]\tLoss: 543.427429\n",
      "====> Epoch: 1 Average loss: 181.1788\n",
      "Train Epoch: 1 [24000/60000 (40%)]\tLoss: 543.427429\n",
      "====> Epoch: 1 Average loss: 217.4073\n",
      "Train Epoch: 1 [28000/60000 (47%)]\tLoss: 543.427429\n",
      "====> Epoch: 1 Average loss: 253.6358\n",
      "Train Epoch: 1 [32000/60000 (53%)]\tLoss: 543.427429\n",
      "====> Epoch: 1 Average loss: 289.8642\n",
      "Train Epoch: 1 [36000/60000 (60%)]\tLoss: 543.427429\n",
      "====> Epoch: 1 Average loss: 326.0927\n",
      "Train Epoch: 1 [40000/60000 (67%)]\tLoss: 543.427429\n",
      "====> Epoch: 1 Average loss: 362.3212\n",
      "Train Epoch: 1 [44000/60000 (73%)]\tLoss: 543.427429\n",
      "====> Epoch: 1 Average loss: 398.5497\n",
      "Train Epoch: 1 [48000/60000 (80%)]\tLoss: 543.427429\n",
      "====> Epoch: 1 Average loss: 434.7782\n",
      "Train Epoch: 1 [52000/60000 (87%)]\tLoss: 543.427429\n",
      "====> Epoch: 1 Average loss: 471.0067\n",
      "Train Epoch: 1 [56000/60000 (93%)]\tLoss: 543.427429\n",
      "====> Epoch: 1 Average loss: 507.2352\n",
      "====> Test set loss: 543.4208\n",
      "Train Epoch: 2 [0/60000 (0%)]\tLoss: 543.427429\n",
      "====> Epoch: 2 Average loss: 0.0362\n",
      "Train Epoch: 2 [4000/60000 (7%)]\tLoss: 543.427429\n",
      "====> Epoch: 2 Average loss: 36.2647\n",
      "Train Epoch: 2 [8000/60000 (13%)]\tLoss: 543.427429\n",
      "====> Epoch: 2 Average loss: 72.4932\n",
      "Train Epoch: 2 [12000/60000 (20%)]\tLoss: 543.427429\n",
      "====> Epoch: 2 Average loss: 108.7217\n",
      "Train Epoch: 2 [16000/60000 (27%)]\tLoss: 543.427429\n",
      "====> Epoch: 2 Average loss: 144.9502\n",
      "Train Epoch: 2 [20000/60000 (33%)]\tLoss: 543.427429\n",
      "====> Epoch: 2 Average loss: 181.1787\n",
      "Train Epoch: 2 [24000/60000 (40%)]\tLoss: 543.427429\n",
      "====> Epoch: 2 Average loss: 217.4072\n",
      "Train Epoch: 2 [28000/60000 (47%)]\tLoss: 543.427429\n",
      "====> Epoch: 2 Average loss: 253.6357\n",
      "Train Epoch: 2 [32000/60000 (53%)]\tLoss: 543.427429\n",
      "====> Epoch: 2 Average loss: 289.8642\n",
      "Train Epoch: 2 [36000/60000 (60%)]\tLoss: 543.427429\n",
      "====> Epoch: 2 Average loss: 326.0927\n",
      "Train Epoch: 2 [40000/60000 (67%)]\tLoss: 543.427429\n",
      "====> Epoch: 2 Average loss: 362.3212\n",
      "Train Epoch: 2 [44000/60000 (73%)]\tLoss: 543.427429\n",
      "====> Epoch: 2 Average loss: 398.5497\n",
      "Train Epoch: 2 [48000/60000 (80%)]\tLoss: 543.427429\n",
      "====> Epoch: 2 Average loss: 434.7782\n",
      "Train Epoch: 2 [52000/60000 (87%)]\tLoss: 543.427429\n",
      "====> Epoch: 2 Average loss: 471.0067\n",
      "Train Epoch: 2 [56000/60000 (93%)]\tLoss: 543.427429\n",
      "====> Epoch: 2 Average loss: 507.2352\n",
      "====> Test set loss: 543.4208\n",
      "Train Epoch: 3 [0/60000 (0%)]\tLoss: 543.427429\n",
      "====> Epoch: 3 Average loss: 0.0362\n",
      "Train Epoch: 3 [4000/60000 (7%)]\tLoss: 543.427429\n",
      "====> Epoch: 3 Average loss: 36.2647\n",
      "Train Epoch: 3 [8000/60000 (13%)]\tLoss: 543.427429\n",
      "====> Epoch: 3 Average loss: 72.4932\n",
      "Train Epoch: 3 [12000/60000 (20%)]\tLoss: 543.427429\n",
      "====> Epoch: 3 Average loss: 108.7217\n",
      "Train Epoch: 3 [16000/60000 (27%)]\tLoss: 543.427429\n",
      "====> Epoch: 3 Average loss: 144.9502\n",
      "Train Epoch: 3 [20000/60000 (33%)]\tLoss: 543.427429\n",
      "====> Epoch: 3 Average loss: 181.1787\n",
      "Train Epoch: 3 [24000/60000 (40%)]\tLoss: 543.427429\n",
      "====> Epoch: 3 Average loss: 217.4072\n",
      "Train Epoch: 3 [28000/60000 (47%)]\tLoss: 543.427429\n",
      "====> Epoch: 3 Average loss: 253.6357\n",
      "Train Epoch: 3 [32000/60000 (53%)]\tLoss: 543.427429\n",
      "====> Epoch: 3 Average loss: 289.8642\n",
      "Train Epoch: 3 [36000/60000 (60%)]\tLoss: 543.427429\n",
      "====> Epoch: 3 Average loss: 326.0927\n",
      "Train Epoch: 3 [40000/60000 (67%)]\tLoss: 543.427429\n",
      "====> Epoch: 3 Average loss: 362.3212\n",
      "Train Epoch: 3 [44000/60000 (73%)]\tLoss: 543.427429\n",
      "====> Epoch: 3 Average loss: 398.5497\n",
      "Train Epoch: 3 [48000/60000 (80%)]\tLoss: 543.427429\n",
      "====> Epoch: 3 Average loss: 434.7782\n",
      "Train Epoch: 3 [52000/60000 (87%)]\tLoss: 543.427429\n",
      "====> Epoch: 3 Average loss: 471.0067\n",
      "Train Epoch: 3 [56000/60000 (93%)]\tLoss: 543.427429\n",
      "====> Epoch: 3 Average loss: 507.2352\n",
      "====> Test set loss: 543.4208\n",
      "Train Epoch: 4 [0/60000 (0%)]\tLoss: 543.427429\n",
      "====> Epoch: 4 Average loss: 0.0362\n",
      "Train Epoch: 4 [4000/60000 (7%)]\tLoss: 543.427429\n",
      "====> Epoch: 4 Average loss: 36.2647\n",
      "Train Epoch: 4 [8000/60000 (13%)]\tLoss: 543.427429\n",
      "====> Epoch: 4 Average loss: 72.4932\n",
      "Train Epoch: 4 [12000/60000 (20%)]\tLoss: 543.427429\n",
      "====> Epoch: 4 Average loss: 108.7217\n"
     ]
    }
   ],
   "source": [
    "for epoch in range(1, 5):\n",
    "    train(epoch, vae, optimizer)\n",
    "    test(vae)"
   ]
  },
  {
   "cell_type": "code",
   "execution_count": null,
   "metadata": {},
   "outputs": [],
   "source": []
  }
 ],
 "metadata": {
  "kernelspec": {
   "display_name": "ml",
   "language": "python",
   "name": "python3"
  },
  "language_info": {
   "codemirror_mode": {
    "name": "ipython",
    "version": 3
   },
   "file_extension": ".py",
   "mimetype": "text/x-python",
   "name": "python",
   "nbconvert_exporter": "python",
   "pygments_lexer": "ipython3",
   "version": "3.9.13"
  },
  "orig_nbformat": 4
 },
 "nbformat": 4,
 "nbformat_minor": 2
}
